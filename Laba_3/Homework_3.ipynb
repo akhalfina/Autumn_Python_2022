{
 "cells": [
  {
   "cell_type": "markdown",
   "id": "93c87004",
   "metadata": {},
   "source": [
    "# Домашнее задание №3.\n",
    "## Pandas\n",
    "\n",
    "---\n",
    "**Выполнила:** Халфина Айсылу Зуфаровна\n",
    "\n",
    "**Группа:** НПМбд-02-19\n",
    "\n",
    "---"
   ]
  },
  {
   "cell_type": "markdown",
   "id": "8f151ae3",
   "metadata": {},
   "source": [
    "### О задании\n",
    "\n",
    "Задание состоит из двух разделов, посвященных работе с табличными данными с помощью библиотеки pandas и визуализации с помощью matplotlib. В каждом разделе вам предлагается выполнить несколько заданий. Баллы даются за выполнение отдельных пунктов. Задачи в рамках одного раздела рекомендуется решать в том порядке, в котором они даны в задании.\n",
    "\n",
    "Задание направлено на освоение jupyter notebook (будет использоваться в дальнейших заданиях), библиотекам pandas и matplotlib."
   ]
  },
  {
   "cell_type": "markdown",
   "id": "b4a8db4c",
   "metadata": {},
   "source": [
    "## 1. Табличные данные и Pandas"
   ]
  },
  {
   "cell_type": "code",
   "execution_count": 151,
   "id": "24ee7cf9",
   "metadata": {},
   "outputs": [
    {
     "name": "stdout",
     "output_type": "stream",
     "text": [
      "%pylab is deprecated, use %matplotlib inline and import the required libraries.\n",
      "Populating the interactive namespace from numpy and matplotlib\n"
     ]
    }
   ],
   "source": [
    "%pylab inline  \n",
    "# import almost all we need\n",
    "import pandas as pd"
   ]
  },
  {
   "cell_type": "markdown",
   "id": "fff4fa43",
   "metadata": {},
   "source": [
    "#### 1. [0.5 баллов] Откройте файл с таблицей (не забудьте про её формат). Выведите последние 10 строк.\n",
    "\n",
    "Посмотрите на данные и скажите, что они из себя представляют, сколько в таблице строк, какие столбцы?"
   ]
  },
  {
   "cell_type": "code",
   "execution_count": 152,
   "id": "c2c2a414",
   "metadata": {},
   "outputs": [
    {
     "data": {
      "text/html": [
       "<div>\n",
       "<style scoped>\n",
       "    .dataframe tbody tr th:only-of-type {\n",
       "        vertical-align: middle;\n",
       "    }\n",
       "\n",
       "    .dataframe tbody tr th {\n",
       "        vertical-align: top;\n",
       "    }\n",
       "\n",
       "    .dataframe thead th {\n",
       "        text-align: right;\n",
       "    }\n",
       "</style>\n",
       "<table border=\"1\" class=\"dataframe\">\n",
       "  <thead>\n",
       "    <tr style=\"text-align: right;\">\n",
       "      <th></th>\n",
       "      <th>order_id</th>\n",
       "      <th>quantity</th>\n",
       "      <th>item_name</th>\n",
       "      <th>choice_description</th>\n",
       "      <th>item_price</th>\n",
       "    </tr>\n",
       "  </thead>\n",
       "  <tbody>\n",
       "    <tr>\n",
       "      <th>4612</th>\n",
       "      <td>1831</td>\n",
       "      <td>1</td>\n",
       "      <td>Carnitas Bowl</td>\n",
       "      <td>[Fresh Tomato Salsa, [Fajita Vegetables, Rice,...</td>\n",
       "      <td>$9.25</td>\n",
       "    </tr>\n",
       "    <tr>\n",
       "      <th>4613</th>\n",
       "      <td>1831</td>\n",
       "      <td>1</td>\n",
       "      <td>Chips</td>\n",
       "      <td>NaN</td>\n",
       "      <td>$2.15</td>\n",
       "    </tr>\n",
       "    <tr>\n",
       "      <th>4614</th>\n",
       "      <td>1831</td>\n",
       "      <td>1</td>\n",
       "      <td>Bottled Water</td>\n",
       "      <td>NaN</td>\n",
       "      <td>$1.50</td>\n",
       "    </tr>\n",
       "    <tr>\n",
       "      <th>4615</th>\n",
       "      <td>1832</td>\n",
       "      <td>1</td>\n",
       "      <td>Chicken Soft Tacos</td>\n",
       "      <td>[Fresh Tomato Salsa, [Rice, Cheese, Sour Cream]]</td>\n",
       "      <td>$8.75</td>\n",
       "    </tr>\n",
       "    <tr>\n",
       "      <th>4616</th>\n",
       "      <td>1832</td>\n",
       "      <td>1</td>\n",
       "      <td>Chips and Guacamole</td>\n",
       "      <td>NaN</td>\n",
       "      <td>$4.45</td>\n",
       "    </tr>\n",
       "    <tr>\n",
       "      <th>4617</th>\n",
       "      <td>1833</td>\n",
       "      <td>1</td>\n",
       "      <td>Steak Burrito</td>\n",
       "      <td>[Fresh Tomato Salsa, [Rice, Black Beans, Sour ...</td>\n",
       "      <td>$11.75</td>\n",
       "    </tr>\n",
       "    <tr>\n",
       "      <th>4618</th>\n",
       "      <td>1833</td>\n",
       "      <td>1</td>\n",
       "      <td>Steak Burrito</td>\n",
       "      <td>[Fresh Tomato Salsa, [Rice, Sour Cream, Cheese...</td>\n",
       "      <td>$11.75</td>\n",
       "    </tr>\n",
       "    <tr>\n",
       "      <th>4619</th>\n",
       "      <td>1834</td>\n",
       "      <td>1</td>\n",
       "      <td>Chicken Salad Bowl</td>\n",
       "      <td>[Fresh Tomato Salsa, [Fajita Vegetables, Pinto...</td>\n",
       "      <td>$11.25</td>\n",
       "    </tr>\n",
       "    <tr>\n",
       "      <th>4620</th>\n",
       "      <td>1834</td>\n",
       "      <td>1</td>\n",
       "      <td>Chicken Salad Bowl</td>\n",
       "      <td>[Fresh Tomato Salsa, [Fajita Vegetables, Lettu...</td>\n",
       "      <td>$8.75</td>\n",
       "    </tr>\n",
       "    <tr>\n",
       "      <th>4621</th>\n",
       "      <td>1834</td>\n",
       "      <td>1</td>\n",
       "      <td>Chicken Salad Bowl</td>\n",
       "      <td>[Fresh Tomato Salsa, [Fajita Vegetables, Pinto...</td>\n",
       "      <td>$8.75</td>\n",
       "    </tr>\n",
       "  </tbody>\n",
       "</table>\n",
       "</div>"
      ],
      "text/plain": [
       "      order_id  quantity            item_name  \\\n",
       "4612      1831         1        Carnitas Bowl   \n",
       "4613      1831         1                Chips   \n",
       "4614      1831         1        Bottled Water   \n",
       "4615      1832         1   Chicken Soft Tacos   \n",
       "4616      1832         1  Chips and Guacamole   \n",
       "4617      1833         1        Steak Burrito   \n",
       "4618      1833         1        Steak Burrito   \n",
       "4619      1834         1   Chicken Salad Bowl   \n",
       "4620      1834         1   Chicken Salad Bowl   \n",
       "4621      1834         1   Chicken Salad Bowl   \n",
       "\n",
       "                                     choice_description item_price  \n",
       "4612  [Fresh Tomato Salsa, [Fajita Vegetables, Rice,...     $9.25   \n",
       "4613                                                NaN     $2.15   \n",
       "4614                                                NaN     $1.50   \n",
       "4615   [Fresh Tomato Salsa, [Rice, Cheese, Sour Cream]]     $8.75   \n",
       "4616                                                NaN     $4.45   \n",
       "4617  [Fresh Tomato Salsa, [Rice, Black Beans, Sour ...    $11.75   \n",
       "4618  [Fresh Tomato Salsa, [Rice, Sour Cream, Cheese...    $11.75   \n",
       "4619  [Fresh Tomato Salsa, [Fajita Vegetables, Pinto...    $11.25   \n",
       "4620  [Fresh Tomato Salsa, [Fajita Vegetables, Lettu...     $8.75   \n",
       "4621  [Fresh Tomato Salsa, [Fajita Vegetables, Pinto...     $8.75   "
      ]
     },
     "execution_count": 152,
     "metadata": {},
     "output_type": "execute_result"
    }
   ],
   "source": [
    "data = pd.read_csv('data.csv')\n",
    "data.tail(10)"
   ]
  },
  {
   "cell_type": "markdown",
   "id": "56742bc4",
   "metadata": {},
   "source": [
    "В таблице 4621 строка. Таблица содержит идентификатор заказа, количество заказанных блюд, наименование блюд, их состав и цену."
   ]
  },
  {
   "cell_type": "markdown",
   "id": "bb795de9",
   "metadata": {},
   "source": [
    "#### 2. [0.25 баллов] Ответьте на вопросы:\n",
    "1. Сколько заказов попало в выборку?\n",
    "2. Сколько уникальных категорий товара было куплено? (item_name)"
   ]
  },
  {
   "cell_type": "code",
   "execution_count": 153,
   "id": "d6ad65a3",
   "metadata": {},
   "outputs": [
    {
     "name": "stdout",
     "output_type": "stream",
     "text": [
      "Количество заказов: 1834\n",
      "Количество уникальных категорий: 50\n"
     ]
    }
   ],
   "source": [
    "orders = data.order_id.nunique()\n",
    "unique_items = data.item_name.nunique()\n",
    "print('Количество заказов:', orders)\n",
    "print('Количество уникальных категорий:', unique_items)"
   ]
  },
  {
   "cell_type": "markdown",
   "id": "62c6a582",
   "metadata": {},
   "source": [
    "#### 3. [0.25 баллов] Есть ли в данных пропуски? В каких колонках? "
   ]
  },
  {
   "cell_type": "code",
   "execution_count": 154,
   "id": "e09652b2",
   "metadata": {},
   "outputs": [
    {
     "name": "stdout",
     "output_type": "stream",
     "text": [
      "Пропуски присутствуют в столбцах: choice_description "
     ]
    }
   ],
   "source": [
    "if data.isnull().any().any():\n",
    "    print('Пропуски присутствуют в столбцах:', end = ' ')\n",
    "    nulls = data.isnull().sum().to_frame()\n",
    "    for index, row in nulls.iterrows():\n",
    "        if row[0] > 0:\n",
    "            print(index, end = ' ')\n",
    "else:\n",
    "    print('Пропуски отсутствуют')  "
   ]
  },
  {
   "cell_type": "markdown",
   "id": "d1cab8c1",
   "metadata": {},
   "source": [
    "Заполните пропуски пустой строкой для строковых колонок и нулём для числовых."
   ]
  },
  {
   "cell_type": "code",
   "execution_count": 155,
   "id": "5eb62906",
   "metadata": {},
   "outputs": [],
   "source": [
    "for i in data.columns:\n",
    "    if np.dtype(data[i]) == int64:\n",
    "        data[i].fillna(0, inplace = True)\n",
    "    if np.dtype(data[i]) == object:\n",
    "        data[i].fillna(value = '', inplace = True)"
   ]
  },
  {
   "cell_type": "markdown",
   "id": "527776d3",
   "metadata": {},
   "source": [
    "#### 4. [0.5 баллов] Посмотрите внимательнее на колонку с ценой товара. Какого она типа? Создайте новую колонку так, чтобы в ней цена была числом.\n",
    "\n",
    "Для этого попробуйте применить функцию-преобразование к каждой строке вашей таблицы (для этого есть соответствующая функция)."
   ]
  },
  {
   "cell_type": "code",
   "execution_count": 156,
   "id": "9fd32ec1",
   "metadata": {},
   "outputs": [
    {
     "name": "stdout",
     "output_type": "stream",
     "text": [
      "Тип колонки с ценой товара: object\n"
     ]
    }
   ],
   "source": [
    "print(f\"Тип колонки с ценой товара: {np.dtype(data.item_price)}\")\n",
    "\n",
    "def modify_price(old_price):\n",
    "    return float(old_price[1:])\n",
    "\n",
    "data['float_price'] = data['item_price'].apply(modify_price)"
   ]
  },
  {
   "cell_type": "markdown",
   "id": "fa499103",
   "metadata": {},
   "source": [
    "Какая средняя/минимальная/максимальная цена у товара?"
   ]
  },
  {
   "cell_type": "code",
   "execution_count": 157,
   "id": "82293773",
   "metadata": {},
   "outputs": [
    {
     "name": "stdout",
     "output_type": "stream",
     "text": [
      "Средняя цена: 7.08\n",
      "Минимальная цена: 1.09\n",
      "Максимальная цена: 11.89\n"
     ]
    }
   ],
   "source": [
    "data['price_for_one_item'] = data['float_price'] / data['quantity']\n",
    "\n",
    "print('Средняя цена:', round(mean(data['price_for_one_item']), 2))\n",
    "print('Минимальная цена:', min(data['price_for_one_item']))\n",
    "print('Максимальная цена:', max(data['price_for_one_item']))"
   ]
  },
  {
   "cell_type": "markdown",
   "id": "27c0687c",
   "metadata": {},
   "source": [
    "Удалите старую колонку с ценой."
   ]
  },
  {
   "cell_type": "code",
   "execution_count": 158,
   "id": "0bc3f7d5",
   "metadata": {},
   "outputs": [],
   "source": [
    "data.drop('item_price', axis = 1, inplace = True)"
   ]
  },
  {
   "cell_type": "markdown",
   "id": "36f1919d",
   "metadata": {},
   "source": [
    "#### 5. [0.25 баллов] Какие 5 товаров были самыми дешёвыми и самыми дорогими? (по item_name)\n",
    "\n",
    "Для этого будет удобно избавиться от дубликатов и отсортировать товары. Не забудьте про количество товара."
   ]
  },
  {
   "cell_type": "code",
   "execution_count": 159,
   "id": "dbe5ad3e",
   "metadata": {},
   "outputs": [
    {
     "name": "stdout",
     "output_type": "stream",
     "text": [
      "Самые дешёвые товары:\n"
     ]
    },
    {
     "data": {
      "text/html": [
       "<div>\n",
       "<style scoped>\n",
       "    .dataframe tbody tr th:only-of-type {\n",
       "        vertical-align: middle;\n",
       "    }\n",
       "\n",
       "    .dataframe tbody tr th {\n",
       "        vertical-align: top;\n",
       "    }\n",
       "\n",
       "    .dataframe thead th {\n",
       "        text-align: right;\n",
       "    }\n",
       "</style>\n",
       "<table border=\"1\" class=\"dataframe\">\n",
       "  <thead>\n",
       "    <tr style=\"text-align: right;\">\n",
       "      <th></th>\n",
       "      <th>order_id</th>\n",
       "      <th>quantity</th>\n",
       "      <th>item_name</th>\n",
       "      <th>choice_description</th>\n",
       "      <th>float_price</th>\n",
       "      <th>price_for_one_item</th>\n",
       "    </tr>\n",
       "  </thead>\n",
       "  <tbody>\n",
       "    <tr>\n",
       "      <th>34</th>\n",
       "      <td>17</td>\n",
       "      <td>1</td>\n",
       "      <td>Bottled Water</td>\n",
       "      <td></td>\n",
       "      <td>1.09</td>\n",
       "      <td>1.09</td>\n",
       "    </tr>\n",
       "    <tr>\n",
       "      <th>18</th>\n",
       "      <td>9</td>\n",
       "      <td>2</td>\n",
       "      <td>Canned Soda</td>\n",
       "      <td>[Sprite]</td>\n",
       "      <td>2.18</td>\n",
       "      <td>1.09</td>\n",
       "    </tr>\n",
       "    <tr>\n",
       "      <th>263</th>\n",
       "      <td>114</td>\n",
       "      <td>1</td>\n",
       "      <td>Canned Soft Drink</td>\n",
       "      <td>[Coke]</td>\n",
       "      <td>1.25</td>\n",
       "      <td>1.25</td>\n",
       "    </tr>\n",
       "    <tr>\n",
       "      <th>6</th>\n",
       "      <td>3</td>\n",
       "      <td>1</td>\n",
       "      <td>Side of Chips</td>\n",
       "      <td></td>\n",
       "      <td>1.69</td>\n",
       "      <td>1.69</td>\n",
       "    </tr>\n",
       "    <tr>\n",
       "      <th>40</th>\n",
       "      <td>19</td>\n",
       "      <td>1</td>\n",
       "      <td>Chips</td>\n",
       "      <td></td>\n",
       "      <td>2.15</td>\n",
       "      <td>2.15</td>\n",
       "    </tr>\n",
       "  </tbody>\n",
       "</table>\n",
       "</div>"
      ],
      "text/plain": [
       "     order_id  quantity          item_name choice_description  float_price  \\\n",
       "34         17         1      Bottled Water                            1.09   \n",
       "18          9         2        Canned Soda           [Sprite]         2.18   \n",
       "263       114         1  Canned Soft Drink             [Coke]         1.25   \n",
       "6           3         1      Side of Chips                            1.69   \n",
       "40         19         1              Chips                            2.15   \n",
       "\n",
       "     price_for_one_item  \n",
       "34                 1.09  \n",
       "18                 1.09  \n",
       "263                1.25  \n",
       "6                  1.69  \n",
       "40                 2.15  "
      ]
     },
     "execution_count": 159,
     "metadata": {},
     "output_type": "execute_result"
    }
   ],
   "source": [
    "unique_items = data.drop_duplicates(\"item_name\").sort_values(by = \"price_for_one_item\")\n",
    "print(\"Самые дешёвые товары:\")\n",
    "unique_items.head(5)"
   ]
  },
  {
   "cell_type": "code",
   "execution_count": 160,
   "id": "bdb8073a",
   "metadata": {},
   "outputs": [
    {
     "name": "stdout",
     "output_type": "stream",
     "text": [
      "Самые дорогие товары:\n"
     ]
    },
    {
     "data": {
      "text/html": [
       "<div>\n",
       "<style scoped>\n",
       "    .dataframe tbody tr th:only-of-type {\n",
       "        vertical-align: middle;\n",
       "    }\n",
       "\n",
       "    .dataframe tbody tr th {\n",
       "        vertical-align: top;\n",
       "    }\n",
       "\n",
       "    .dataframe thead th {\n",
       "        text-align: right;\n",
       "    }\n",
       "</style>\n",
       "<table border=\"1\" class=\"dataframe\">\n",
       "  <thead>\n",
       "    <tr style=\"text-align: right;\">\n",
       "      <th></th>\n",
       "      <th>order_id</th>\n",
       "      <th>quantity</th>\n",
       "      <th>item_name</th>\n",
       "      <th>choice_description</th>\n",
       "      <th>float_price</th>\n",
       "      <th>price_for_one_item</th>\n",
       "    </tr>\n",
       "  </thead>\n",
       "  <tbody>\n",
       "    <tr>\n",
       "      <th>7</th>\n",
       "      <td>4</td>\n",
       "      <td>1</td>\n",
       "      <td>Steak Burrito</td>\n",
       "      <td>[Tomatillo Red Chili Salsa, [Fajita Vegetables...</td>\n",
       "      <td>11.75</td>\n",
       "      <td>11.75</td>\n",
       "    </tr>\n",
       "    <tr>\n",
       "      <th>168</th>\n",
       "      <td>75</td>\n",
       "      <td>1</td>\n",
       "      <td>Barbacoa Crispy Tacos</td>\n",
       "      <td>[Tomatillo Red Chili Salsa, [Rice, Black Beans...</td>\n",
       "      <td>11.75</td>\n",
       "      <td>11.75</td>\n",
       "    </tr>\n",
       "    <tr>\n",
       "      <th>1132</th>\n",
       "      <td>468</td>\n",
       "      <td>1</td>\n",
       "      <td>Carnitas Salad Bowl</td>\n",
       "      <td>[Fresh Tomato Salsa, [Rice, Black Beans, Chees...</td>\n",
       "      <td>11.89</td>\n",
       "      <td>11.89</td>\n",
       "    </tr>\n",
       "    <tr>\n",
       "      <th>1229</th>\n",
       "      <td>501</td>\n",
       "      <td>1</td>\n",
       "      <td>Barbacoa Salad Bowl</td>\n",
       "      <td>[Fresh Tomato Salsa, [Rice, Fajita Vegetables,...</td>\n",
       "      <td>11.89</td>\n",
       "      <td>11.89</td>\n",
       "    </tr>\n",
       "    <tr>\n",
       "      <th>281</th>\n",
       "      <td>123</td>\n",
       "      <td>2</td>\n",
       "      <td>Steak Salad Bowl</td>\n",
       "      <td>[Tomatillo Red Chili Salsa, [Black Beans, Chee...</td>\n",
       "      <td>23.78</td>\n",
       "      <td>11.89</td>\n",
       "    </tr>\n",
       "  </tbody>\n",
       "</table>\n",
       "</div>"
      ],
      "text/plain": [
       "      order_id  quantity              item_name  \\\n",
       "7            4         1          Steak Burrito   \n",
       "168         75         1  Barbacoa Crispy Tacos   \n",
       "1132       468         1    Carnitas Salad Bowl   \n",
       "1229       501         1    Barbacoa Salad Bowl   \n",
       "281        123         2       Steak Salad Bowl   \n",
       "\n",
       "                                     choice_description  float_price  \\\n",
       "7     [Tomatillo Red Chili Salsa, [Fajita Vegetables...        11.75   \n",
       "168   [Tomatillo Red Chili Salsa, [Rice, Black Beans...        11.75   \n",
       "1132  [Fresh Tomato Salsa, [Rice, Black Beans, Chees...        11.89   \n",
       "1229  [Fresh Tomato Salsa, [Rice, Fajita Vegetables,...        11.89   \n",
       "281   [Tomatillo Red Chili Salsa, [Black Beans, Chee...        23.78   \n",
       "\n",
       "      price_for_one_item  \n",
       "7                  11.75  \n",
       "168                11.75  \n",
       "1132               11.89  \n",
       "1229               11.89  \n",
       "281                11.89  "
      ]
     },
     "execution_count": 160,
     "metadata": {},
     "output_type": "execute_result"
    }
   ],
   "source": [
    "print(\"Самые дорогие товары:\")\n",
    "unique_items.tail(5)"
   ]
  },
  {
   "cell_type": "markdown",
   "id": "09996ca3",
   "metadata": {},
   "source": [
    "#### 6. [0.5 баллов] Сколько раз клиенты покупали больше 1 Chicken Bowl (item_name)?"
   ]
  },
  {
   "cell_type": "code",
   "execution_count": 161,
   "id": "587c6aa1",
   "metadata": {},
   "outputs": [
    {
     "name": "stdout",
     "output_type": "stream",
     "text": [
      "Клиенты покупали больше 1 Chicken Bowl 33 раза\n"
     ]
    }
   ],
   "source": [
    "chicken_bow_orders = data[(data['item_name'] == 'Chicken Bowl') & (data['quantity'] > 1)]\n",
    "print(f\"Клиенты покупали больше 1 Chicken Bowl {len(chicken_bow_orders)} раза\")"
   ]
  },
  {
   "cell_type": "markdown",
   "id": "4be40a7e",
   "metadata": {},
   "source": [
    "#### 7. [0.5 баллов] Какой средний чек у заказа? Сколько в среднем товаров покупают?\n",
    "\n",
    "Если необходимо провести вычисления в терминах заказов, то будет удобно сгруппировать строки по заказам и посчитать необходимые статистики."
   ]
  },
  {
   "cell_type": "code",
   "execution_count": 162,
   "id": "dc72ef74",
   "metadata": {},
   "outputs": [
    {
     "name": "stdout",
     "output_type": "stream",
     "text": [
      "Средний чек заказа:  18.811428571428568\n",
      "В среднем покупают товаров:  2.711014176663032\n"
     ]
    }
   ],
   "source": [
    "print('Средний чек заказа: ', data.groupby('order_id')['float_price'].sum().mean())\n",
    "print('В среднем покупают товаров: ', data.groupby('order_id')['quantity'].sum().mean())"
   ]
  },
  {
   "cell_type": "markdown",
   "id": "9c07f395",
   "metadata": {},
   "source": [
    "#### 8. [0.25 баллов] Сколько заказов содержали ровно 1 товар?"
   ]
  },
  {
   "cell_type": "code",
   "execution_count": 163,
   "id": "d8e2e7ae",
   "metadata": {},
   "outputs": [
    {
     "data": {
      "text/plain": [
       "56"
      ]
     },
     "execution_count": 163,
     "metadata": {},
     "output_type": "execute_result"
    }
   ],
   "source": [
    "(data.groupby(['order_id']).sum()['quantity'] == 1).sum()"
   ]
  },
  {
   "cell_type": "markdown",
   "id": "f7246d6d",
   "metadata": {},
   "source": [
    "#### 9. [0.25 баллов] Какая самая популярная категория товара? "
   ]
  },
  {
   "cell_type": "code",
   "execution_count": 164,
   "id": "960d25ad",
   "metadata": {},
   "outputs": [
    {
     "name": "stdout",
     "output_type": "stream",
     "text": [
      "Самый популярный товар: Chicken Bowl\n"
     ]
    }
   ],
   "source": [
    "popular_item = data.groupby(['item_name'])['quantity'].sum().sort_values().tail(1).keys()[0]\n",
    "print(\"Самый популярный товар:\", popular_item)"
   ]
  },
  {
   "cell_type": "markdown",
   "id": "83138624",
   "metadata": {},
   "source": [
    "#### 10. [0.5 баллов] Какие виды Burrito существуют? Какой из них чаще всего покупают? Какой из них самый дорогой? "
   ]
  },
  {
   "cell_type": "code",
   "execution_count": 165,
   "id": "270639a5",
   "metadata": {},
   "outputs": [
    {
     "name": "stdout",
     "output_type": "stream",
     "text": [
      "Виды бурито:\n"
     ]
    },
    {
     "data": {
      "text/html": [
       "<div>\n",
       "<style scoped>\n",
       "    .dataframe tbody tr th:only-of-type {\n",
       "        vertical-align: middle;\n",
       "    }\n",
       "\n",
       "    .dataframe tbody tr th {\n",
       "        vertical-align: top;\n",
       "    }\n",
       "\n",
       "    .dataframe thead th {\n",
       "        text-align: right;\n",
       "    }\n",
       "</style>\n",
       "<table border=\"1\" class=\"dataframe\">\n",
       "  <thead>\n",
       "    <tr style=\"text-align: right;\">\n",
       "      <th></th>\n",
       "      <th>order_id</th>\n",
       "      <th>quantity</th>\n",
       "      <th>item_name</th>\n",
       "      <th>choice_description</th>\n",
       "      <th>float_price</th>\n",
       "      <th>price_for_one_item</th>\n",
       "    </tr>\n",
       "  </thead>\n",
       "  <tbody>\n",
       "    <tr>\n",
       "      <th>7</th>\n",
       "      <td>4</td>\n",
       "      <td>1</td>\n",
       "      <td>Steak Burrito</td>\n",
       "      <td>[Tomatillo Red Chili Salsa, [Fajita Vegetables...</td>\n",
       "      <td>11.75</td>\n",
       "      <td>11.75</td>\n",
       "    </tr>\n",
       "    <tr>\n",
       "      <th>16</th>\n",
       "      <td>8</td>\n",
       "      <td>1</td>\n",
       "      <td>Chicken Burrito</td>\n",
       "      <td>[Tomatillo-Green Chili Salsa (Medium), [Pinto ...</td>\n",
       "      <td>8.49</td>\n",
       "      <td>8.49</td>\n",
       "    </tr>\n",
       "    <tr>\n",
       "      <th>21</th>\n",
       "      <td>11</td>\n",
       "      <td>1</td>\n",
       "      <td>Barbacoa Burrito</td>\n",
       "      <td>[[Fresh Tomato Salsa (Mild), Tomatillo-Green C...</td>\n",
       "      <td>8.99</td>\n",
       "      <td>8.99</td>\n",
       "    </tr>\n",
       "    <tr>\n",
       "      <th>27</th>\n",
       "      <td>14</td>\n",
       "      <td>1</td>\n",
       "      <td>Carnitas Burrito</td>\n",
       "      <td>[[Tomatillo-Green Chili Salsa (Medium), Roaste...</td>\n",
       "      <td>8.99</td>\n",
       "      <td>8.99</td>\n",
       "    </tr>\n",
       "    <tr>\n",
       "      <th>57</th>\n",
       "      <td>26</td>\n",
       "      <td>1</td>\n",
       "      <td>Veggie Burrito</td>\n",
       "      <td>[Tomatillo Red Chili Salsa, [Fajita Vegetables...</td>\n",
       "      <td>11.25</td>\n",
       "      <td>11.25</td>\n",
       "    </tr>\n",
       "    <tr>\n",
       "      <th>510</th>\n",
       "      <td>214</td>\n",
       "      <td>1</td>\n",
       "      <td>Burrito</td>\n",
       "      <td>[Adobo-Marinated and Grilled Chicken, Pinto Be...</td>\n",
       "      <td>7.40</td>\n",
       "      <td>7.40</td>\n",
       "    </tr>\n",
       "  </tbody>\n",
       "</table>\n",
       "</div>"
      ],
      "text/plain": [
       "     order_id  quantity         item_name  \\\n",
       "7           4         1     Steak Burrito   \n",
       "16          8         1   Chicken Burrito   \n",
       "21         11         1  Barbacoa Burrito   \n",
       "27         14         1  Carnitas Burrito   \n",
       "57         26         1    Veggie Burrito   \n",
       "510       214         1           Burrito   \n",
       "\n",
       "                                    choice_description  float_price  \\\n",
       "7    [Tomatillo Red Chili Salsa, [Fajita Vegetables...        11.75   \n",
       "16   [Tomatillo-Green Chili Salsa (Medium), [Pinto ...         8.49   \n",
       "21   [[Fresh Tomato Salsa (Mild), Tomatillo-Green C...         8.99   \n",
       "27   [[Tomatillo-Green Chili Salsa (Medium), Roaste...         8.99   \n",
       "57   [Tomatillo Red Chili Salsa, [Fajita Vegetables...        11.25   \n",
       "510  [Adobo-Marinated and Grilled Chicken, Pinto Be...         7.40   \n",
       "\n",
       "     price_for_one_item  \n",
       "7                 11.75  \n",
       "16                 8.49  \n",
       "21                 8.99  \n",
       "27                 8.99  \n",
       "57                11.25  \n",
       "510                7.40  "
      ]
     },
     "execution_count": 165,
     "metadata": {},
     "output_type": "execute_result"
    }
   ],
   "source": [
    "buritos = data[data['item_name'].str.contains('Burrito')]\n",
    "print(\"Виды бурито:\")\n",
    "buritos.drop_duplicates(\"item_name\")"
   ]
  },
  {
   "cell_type": "code",
   "execution_count": 166,
   "id": "be86e5c0",
   "metadata": {},
   "outputs": [
    {
     "name": "stdout",
     "output_type": "stream",
     "text": [
      "Чаще всего покупают: Chicken Burrito\n"
     ]
    }
   ],
   "source": [
    "populat_burito = buritos.groupby(['item_name'])['quantity'].sum().sort_values().tail(1).keys()[0]\n",
    "print(\"Чаще всего покупают:\", populat_burito)"
   ]
  },
  {
   "cell_type": "code",
   "execution_count": 167,
   "id": "17e6fc4a",
   "metadata": {},
   "outputs": [
    {
     "name": "stdout",
     "output_type": "stream",
     "text": [
      "Самый дорогой:\n"
     ]
    },
    {
     "data": {
      "text/plain": [
       "4618    Steak Burrito\n",
       "Name: item_name, dtype: object"
      ]
     },
     "execution_count": 167,
     "metadata": {},
     "output_type": "execute_result"
    }
   ],
   "source": [
    "popular_burito = buritos.sort_values('price_for_one_item')['item_name'].tail(1)\n",
    "print(\"Самый дорогой:\")\n",
    "popular_burito"
   ]
  },
  {
   "cell_type": "markdown",
   "id": "7590831d",
   "metadata": {},
   "source": [
    "#### 11. [0.75 баллов] В каком количестве заказов есть товар, который стоит более 40% от суммы всего чека?\n",
    "\n",
    "Возможно, будет удобно посчитать отдельно среднюю стоимость заказа, добавить ее в исходные данные и сделать необходимые проверки.\n",
    "\n",
    "*Данный комментарий стоит воспринимать как подсказку к одному из вариантов решений задания. Если в вашем варианте решения он не нужнен, это не страшно*"
   ]
  },
  {
   "cell_type": "code",
   "execution_count": 168,
   "id": "94c1ae5f",
   "metadata": {},
   "outputs": [
    {
     "data": {
      "text/plain": [
       "1642"
      ]
     },
     "execution_count": 168,
     "metadata": {},
     "output_type": "execute_result"
    }
   ],
   "source": [
    "orders = data.groupby('order_id')['float_price'].max()\n",
    "most_expensive = data.groupby('order_id')['price_for_one_item'].sum()\n",
    "(orders / most_expensive > 0.4).sum()"
   ]
  },
  {
   "cell_type": "markdown",
   "id": "8ab6e82d",
   "metadata": {},
   "source": [
    "#### 12. [0.75 баллов] Предположим, что в данных была ошибка и Diet Coke (choice_description), который стоил $1.25, должен был стоить 1.35. Скорректируйте данные в таблицы и посчитайте, на какой процент больше денег было заработано с этого товара. Не забывайте, что количество товара не всегда равно 1."
   ]
  },
  {
   "cell_type": "code",
   "execution_count": 169,
   "id": "4f7af97c",
   "metadata": {},
   "outputs": [
    {
     "data": {
      "text/plain": [
       "7.999999999999985"
      ]
     },
     "execution_count": 169,
     "metadata": {},
     "output_type": "execute_result"
    }
   ],
   "source": [
    "diet_coke = data[(data['choice_description'].str.contains('Diet Coke')) & (data['price_for_one_item'] == 1.25)]\n",
    "original_income = sum(np.array(diet_coke['quantity']) * 1.25)\n",
    "correct_income = sum(np.array(diet_coke['quantity']) * 1.35)\n",
    "(correct_income / original_income - 1) * 100"
   ]
  },
  {
   "cell_type": "markdown",
   "id": "0da1746e",
   "metadata": {},
   "source": [
    "#### 13. [0.75 баллов] Создайте новый DateFrame из матрицы, созданной ниже. Назовите колонки index, column1, column2 и сделайте первую колонку индексом."
   ]
  },
  {
   "cell_type": "code",
   "execution_count": 170,
   "id": "11c72829",
   "metadata": {},
   "outputs": [],
   "source": [
    "data_frame = pd.DataFrame(np.random.rand(10,3), columns=['index', 'column1', 'column2']).set_index('index')"
   ]
  },
  {
   "cell_type": "markdown",
   "id": "7c478098",
   "metadata": {},
   "source": [
    "Сохраните DataFrame на диск в формате csv без индексов и названий столбцов."
   ]
  },
  {
   "cell_type": "code",
   "execution_count": 171,
   "id": "5aa35679",
   "metadata": {},
   "outputs": [],
   "source": [
    "data_frame.to_csv('data_frame.csv', header=False, index=False)"
   ]
  },
  {
   "cell_type": "markdown",
   "id": "ef277b3d",
   "metadata": {},
   "source": [
    "## 2. Визуализации и matplotlib"
   ]
  },
  {
   "cell_type": "code",
   "execution_count": 172,
   "id": "db5739be",
   "metadata": {},
   "outputs": [],
   "source": [
    "%matplotlib inline\n",
    "import matplotlib.pyplot as plt"
   ]
  },
  {
   "cell_type": "markdown",
   "id": "a32c886c",
   "metadata": {},
   "source": [
    "Работать мы будем с той же выборкой покупкок. Добавим новую колонку с датой покупки."
   ]
  },
  {
   "cell_type": "code",
   "execution_count": 176,
   "id": "8cc83c11",
   "metadata": {},
   "outputs": [],
   "source": [
    "import datetime\n",
    "\n",
    "start = datetime.datetime(2018, 1, 1)\n",
    "end = datetime.datetime(2018, 1, 31)\n",
    "delta_seconds = int((end - start).total_seconds())\n",
    "\n",
    "dates = pd.DataFrame(index=data.order_id.unique())\n",
    "dates['date'] = [\n",
    "    (start + datetime.timedelta(seconds=random.randint(0, delta_seconds))).strftime('%Y-%m-%d')\n",
    "    for _ in range(data.order_id.nunique())]\n",
    "\n",
    "data['date'] = data.order_id.map(dates['date'])"
   ]
  },
  {
   "cell_type": "markdown",
   "id": "bd856084",
   "metadata": {},
   "source": [
    "#### 1. [1 балл] Постройте гистограмму распределения сумм покупок и гистограмму средних цен отдельных видов продуктов item_name. \n",
    "\n",
    "Изображайте на двух соседних графиках. Для этого может быть полезен subplot."
   ]
  },
  {
   "cell_type": "code",
   "execution_count": 204,
   "id": "e89880d6",
   "metadata": {},
   "outputs": [
    {
     "data": {
      "image/png": "[encoded data removed]",
      "text/plain": [
       "<Figure size 1152x504 with 2 Axes>"
      ]
     },
     "metadata": {
      "needs_background": "light"
     },
     "output_type": "display_data"
    }
   ],
   "source": [
    "fig, axs = plt.subplots(1, 2, figsize=(16, 7))\n",
    "\n",
    "orders = data.groupby('order_id')['float_price'].sum()\n",
    "mean_prices = data.groupby(['item_name'])['price_for_one_item'].mean()\n",
    "\n",
    "axs[0].hist(orders, bins = 30)\n",
    "axs[0].set_xlabel('Сумма покупок')\n",
    "axs[0].set_ylabel('Количество заказов')\n",
    "axs[0].set_title('Гистограмма распределения сумм покупок')\n",
    "axs[0].grid()\n",
    "\n",
    "axs[1].hist(mean_prices, bins = 30, color='#b30000')\n",
    "axs[1].set_xlabel('Средняя цена')\n",
    "axs[1].set_ylabel('Количество продуктов')\n",
    "axs[1].set_title('Гистограмма средних цен отдельных видов продуктов')\n",
    "axs[1].grid()"
   ]
  },
  {
   "cell_type": "markdown",
   "id": "a8ec2059",
   "metadata": {},
   "source": [
    "#### 2. [1 балл] Постройте график зависимости суммы покупок от дней."
   ]
  },
  {
   "cell_type": "code",
   "execution_count": 236,
   "id": "be1abadc",
   "metadata": {},
   "outputs": [
    {
     "data": {
      "image/png": "[encoded data removed]",
      "text/plain": [
       "<Figure size 1152x288 with 1 Axes>"
      ]
     },
     "metadata": {
      "needs_background": "light"
     },
     "output_type": "display_data"
    }
   ],
   "source": [
    "fig, ax = plt.subplots(figsize=(16, 4))\n",
    "ax.set_title('График зависимости суммы покупок от дней', fontsize = 25)\n",
    "ax.set_xlabel('Дата', fontsize = 15)\n",
    "ax.set_ylabel('Сумма покупок', fontsize = 15)\n",
    "ax.grid()\n",
    "dates = data.groupby('date')\n",
    "ax.set_xticks(np.arange(len(dates)))\n",
    "ax.set_xticklabels(np.array(dates.size().keys()), rotation = 'vertical')\n",
    "ax.plot(np.array(dates['float_price'].sum()));"
   ]
  },
  {
   "cell_type": "markdown",
   "id": "53bee515",
   "metadata": {},
   "source": [
    "#### 3. [1 балл] Постройте график средних сумм покупок по дням недели (bar plot)."
   ]
  },
  {
   "cell_type": "code",
   "execution_count": 250,
   "id": "fa67a6b6",
   "metadata": {},
   "outputs": [
    {
     "data": {
      "image/png": "[encoded data removed]",
      "text/plain": [
       "<Figure size 1152x504 with 1 Axes>"
      ]
     },
     "metadata": {
      "needs_background": "light"
     },
     "output_type": "display_data"
    }
   ],
   "source": [
    "from datetime import datetime\n",
    "\n",
    "days = [\"Monday\", \"Tuesday\", \"Wednesday\", \"Thursday\", \"Friday\", \"Saturday\", \"Sunday\"]\n",
    "data['day_of_the_week'] = data['date'].apply(lambda _: datetime.strptime(_,\"%Y-%m-%d\")).dt.day_name()\n",
    "plot_data = dict(data.groupby(['day_of_the_week', 'order_id'])['float_price'].sum().groupby('day_of_the_week').mean())\n",
    "sorted_plot_data = {}\n",
    "for i in days:\n",
    "    sorted_plot_data[i] = plot_data[i]\n",
    "\n",
    "fig, ax = plt.subplots(figsize = (16, 7))\n",
    "ax.set_title('График средних сумм покупок по дням недели', fontsize = 25)\n",
    "ax.set_xlabel('Дни недели', fontsize = 15)\n",
    "ax.set_ylabel('Средняя сумма', fontsize = 15)\n",
    "ax.bar(sorted_plot_data.keys(), sorted_plot_data.values());"
   ]
  },
  {
   "cell_type": "markdown",
   "id": "1f4f44e0",
   "metadata": {},
   "source": [
    "#### 4. [1 балл] Постройте график зависимости денег за товар от купленного количества (scatter plot)."
   ]
  },
  {
   "cell_type": "code",
   "execution_count": 266,
   "id": "9fe688d7",
   "metadata": {},
   "outputs": [
    {
     "data": {
      "image/png": "[encoded data removed]",
      "text/plain": [
       "<Figure size 1152x504 with 1 Axes>"
      ]
     },
     "metadata": {
      "needs_background": "light"
     },
     "output_type": "display_data"
    }
   ],
   "source": [
    "fig, ax = plt.subplots(figsize=(16,7))\n",
    "ax.scatter(np.array(data['float_price']), np.array(data['quantity']))\n",
    "ax.set_title('График зависимости денег за товар от купленного количества', fontsize = 25)\n",
    "ax.set_xlabel(\"Денег за товар\", fontsize = 15)\n",
    "ax.set_ylabel(\"Количество товара\", fontsize = 15);\n",
    "ax.grid()"
   ]
  },
  {
   "cell_type": "markdown",
   "id": "bf0d0e1c",
   "metadata": {},
   "source": [
    "Сохраните график в формате pdf (так он останется векторизованным)."
   ]
  },
  {
   "cell_type": "code",
   "execution_count": 267,
   "id": "f84a242a",
   "metadata": {},
   "outputs": [],
   "source": [
    "fig.savefig(\"graph.pdf\")"
   ]
  },
  {
   "cell_type": "code",
   "execution_count": null,
   "id": "c608de97",
   "metadata": {},
   "outputs": [],
   "source": []
  }
 ],
 "metadata": {
  "kernelspec": {
   "display_name": "Python 3 (ipykernel)",
   "language": "python",
   "name": "python3"
  },
  "language_info": {
   "codemirror_mode": {
    "name": "ipython",
    "version": 3
   },
   "file_extension": ".py",
   "mimetype": "text/x-python",
   "name": "python",
   "nbconvert_exporter": "python",
   "pygments_lexer": "ipython3",
   "version": "3.8.5"
  }
 },
 "nbformat": 4,
 "nbformat_minor": 5
}
